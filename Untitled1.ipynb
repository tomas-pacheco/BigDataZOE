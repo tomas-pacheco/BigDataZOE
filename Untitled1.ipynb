{
 "cells": [
  {
   "cell_type": "code",
   "execution_count": 23,
   "id": "c2fbd8f1-1867-4073-84a1-91533b57ab17",
   "metadata": {},
   "outputs": [
    {
     "name": "stdout",
     "output_type": "stream",
     "text": [
      "Requirement already satisfied: pandas in c:\\users\\caval\\anaconda3\\lib\\site-packages (2.2.2)\n",
      "Requirement already satisfied: pyreadstat in c:\\users\\caval\\anaconda3\\lib\\site-packages (1.2.8)\n",
      "Requirement already satisfied: openpyxl in c:\\users\\caval\\anaconda3\\lib\\site-packages (3.1.5)\n",
      "Requirement already satisfied: numpy>=1.26.0 in c:\\users\\caval\\anaconda3\\lib\\site-packages (from pandas) (1.26.4)\n",
      "Requirement already satisfied: python-dateutil>=2.8.2 in c:\\users\\caval\\anaconda3\\lib\\site-packages (from pandas) (2.9.0.post0)\n",
      "Requirement already satisfied: pytz>=2020.1 in c:\\users\\caval\\anaconda3\\lib\\site-packages (from pandas) (2024.1)\n",
      "Requirement already satisfied: tzdata>=2022.7 in c:\\users\\caval\\anaconda3\\lib\\site-packages (from pandas) (2023.3)\n",
      "Requirement already satisfied: et-xmlfile in c:\\users\\caval\\anaconda3\\lib\\site-packages (from openpyxl) (1.1.0)\n",
      "Requirement already satisfied: six>=1.5 in c:\\users\\caval\\anaconda3\\lib\\site-packages (from python-dateutil>=2.8.2->pandas) (1.16.0)\n"
     ]
    },
    {
     "data": {
      "text/plain": [
       "(     CODUSU  nro_hogar componente h15    ano4       trimestre  \\\n",
       " 0  125098          1.0        1.0  Sí  2004.0  1er. Trimestre   \n",
       " 1  125397          1.0        1.0  Sí  2004.0  1er. Trimestre   \n",
       " 2  125515          1.0        1.0  Sí  2004.0  1er. Trimestre   \n",
       " 3  125558          1.0        1.0  Sí  2004.0  1er. Trimestre   \n",
       " 4  125558          1.0        2.0  Sí  2004.0  1er. Trimestre   \n",
       " \n",
       "               region mas_500              aglomerado  pondera  ... deccfr  \\\n",
       " 0  Gran Buenos Aires       S  Ciudad de Buenos Aires   1299.0  ...     07   \n",
       " 1  Gran Buenos Aires       S  Ciudad de Buenos Aires   2018.0  ...     00   \n",
       " 2  Gran Buenos Aires       S  Ciudad de Buenos Aires   1486.0  ...     07   \n",
       " 3  Gran Buenos Aires       S  Ciudad de Buenos Aires   1674.0  ...     08   \n",
       " 4  Gran Buenos Aires       S  Ciudad de Buenos Aires   1674.0  ...     08   \n",
       " \n",
       "   ideccfr rdeccfr gdeccfr pdeccfr adeccfr pj1_1 pj2_1 pj3_1 idimpp  \n",
       " 0              06      06              04   0.0   0.0   0.0  00000  \n",
       " 1              00      00              00   0.0   0.0   0.0  00000  \n",
       " 2              07      07              05   0.0   0.0   0.0  00020  \n",
       " 3              08      08              06   0.0   0.0   0.0  00000  \n",
       " 4              08      08              06   0.0   0.0   0.0  00000  \n",
       " \n",
       " [5 rows x 176 columns],\n",
       "                           CODUSU  ANO4  TRIMESTRE  NRO_HOGAR  COMPONENTE  H15  \\\n",
       " 0  TQRMNOPUTHLMKQCDEGGFB00852588  2024          1          1           3    1   \n",
       " 1  TQRMNOPUTHLMKQCDEGGFB00852588  2024          1          1           4    1   \n",
       " 2  TQRMNOPUTHLMKQCDEGGFB00852588  2024          1          1           5    0   \n",
       " 3  TQRMNOPPWHLLKRCDEGGFB00852574  2024          1          1           1    1   \n",
       " 4  TQRMNOPPWHLLKRCDEGGFB00852574  2024          1          1           2    1   \n",
       " \n",
       "    REGION MAS_500  AGLOMERADO  PONDERA  ...  PDECIFR  ADECIFR      IPCF  \\\n",
       " 0      42       S          10      439  ...      NaN       12       0.0   \n",
       " 1      42       S          10      439  ...      NaN       12       0.0   \n",
       " 2      42       S          10      439  ...      NaN       12       0.0   \n",
       " 3      42       S          10      675  ...      NaN        8  212500.0   \n",
       " 4      42       S          10      675  ...      NaN        8  212500.0   \n",
       " \n",
       "    DECCFR  IDECCFR  RDECCFR  GDECCFR  PDECCFR  ADECCFR  PONDIH  \n",
       " 0      12     12.0       12     12.0      NaN       12       0  \n",
       " 1      12     12.0       12     12.0      NaN       12       0  \n",
       " 2      12     12.0       12     12.0      NaN       12       0  \n",
       " 3       6      6.0        6      6.0      NaN        6    1610  \n",
       " 4       6      6.0        6      6.0      NaN        6    1610  \n",
       " \n",
       " [5 rows x 177 columns])"
      ]
     },
     "execution_count": 23,
     "metadata": {},
     "output_type": "execute_result"
    }
   ],
   "source": [
    "!pip install pandas pyreadstat openpyxl\n",
    "import pandas as pd\n",
    "# Cargar el .dta de 2004\n",
    "df_2004 = pd.read_stata(\"C:\\\\Users\\\\caval\\\\Documents\\\\GitHub\\\\BigData\\\\Individual_t104.dta\")\n",
    "\n",
    "# Cargar el .xls de 2024\n",
    "df_2024 = pd.read_excel(\"C:\\\\Users\\\\caval\\\\Documents\\\\GitHub\\\\BigData\\\\usu_individual_T124.xlsx\")\n",
    "df_2004.head(), df_2024.head()"
   ]
  },
  {
   "cell_type": "code",
   "execution_count": 13,
   "id": "4988c5ba-d6d2-4b83-afb8-a98a7778940f",
   "metadata": {},
   "outputs": [
    {
     "name": "stdout",
     "output_type": "stream",
     "text": [
      "Index(['CODUSU', 'nro_hogar', 'componente', 'h15', 'ano4', 'trimestre',\n",
      "       'region', 'mas_500', 'aglomerado', 'pondera',\n",
      "       ...\n",
      "       'deccfr', 'ideccfr', 'rdeccfr', 'gdeccfr', 'pdeccfr', 'adeccfr',\n",
      "       'pj1_1', 'pj2_1', 'pj3_1', 'idimpp'],\n",
      "      dtype='object', length=176)\n",
      "Index(['CODUSU', 'ANO4', 'TRIMESTRE', 'NRO_HOGAR', 'COMPONENTE', 'H15',\n",
      "       'REGION', 'MAS_500', 'AGLOMERADO', 'PONDERA',\n",
      "       ...\n",
      "       'PDECIFR', 'ADECIFR', 'IPCF', 'DECCFR', 'IDECCFR', 'RDECCFR', 'GDECCFR',\n",
      "       'PDECCFR', 'ADECCFR', 'PONDIH'],\n",
      "      dtype='object', length=177)\n"
     ]
    }
   ],
   "source": [
    "print(df_2004.columns)  # Nombres de columnas en la base 2004\n",
    "print(df_2024.columns)  # Nombres de columnas en la base 2024"
   ]
  },
  {
   "cell_type": "code",
   "execution_count": 25,
   "id": "287a0d4a-5717-478e-84e6-034af3bd7150",
   "metadata": {},
   "outputs": [],
   "source": [
    "# Pasar ambas columnas a mismo type de letra\n",
    "df_2004.columns = df_2004.columns.str.lower()  # Convertir nombres de columnas a minúsculas\n",
    "df_2024.columns = df_2024.columns.str.lower()"
   ]
  },
  {
   "cell_type": "code",
   "execution_count": 29,
   "id": "b17bc4b9-1753-4968-b1ee-f248253da3e4",
   "metadata": {},
   "outputs": [
    {
     "name": "stdout",
     "output_type": "stream",
     "text": [
      "(9393, 176)\n"
     ]
    }
   ],
   "source": [
    "print(df_2004.shape)  # Muestra la cantidad de filas y columnas"
   ]
  },
  {
   "cell_type": "code",
   "execution_count": 31,
   "id": "e32a4bd9-0361-491b-b5ad-009e77d78fff",
   "metadata": {},
   "outputs": [
    {
     "name": "stdout",
     "output_type": "stream",
     "text": [
      "(46050, 177)\n"
     ]
    }
   ],
   "source": [
    "print(df_2024.shape)  # Muestra la cantidad de filas y columnas"
   ]
  },
  {
   "cell_type": "code",
   "execution_count": 35,
   "id": "c859af13-b759-4752-b7fe-2bb1fc6de8dc",
   "metadata": {},
   "outputs": [],
   "source": [
    "# Filtrar solo los datos de la región NOA\n",
    "df_2004 = df_2004[df_2004[\"region\"] == \"NOA\"]\n",
    "df_2024 = df_2024[df_2024[\"region\"] == \"NOA\"]"
   ]
  },
  {
   "cell_type": "code",
   "execution_count": 37,
   "id": "57275b89-1ed7-42cf-bbd4-5185936722d3",
   "metadata": {},
   "outputs": [],
   "source": [
    "# Definir los filtros para aglomerado\n",
    "filtro_nombres = [\"Jujuy - Palpalá\", \"S.del Estero - La Banda\", \"Salta\"]\n",
    "filtro_codigos = [18, 19, 23]  # Ajustar estos códigos si son incorrectos"
   ]
  },
  {
   "cell_type": "code",
   "execution_count": 39,
   "id": "d4ee1013-440f-44b1-80e4-68e6ff88b25b",
   "metadata": {},
   "outputs": [],
   "source": [
    "# Filtrar en cada base\n",
    "df_2004_filtrado = df_2004[df_2004[\"aglomerado\"].isin(filtro_nombres)]\n",
    "df_2024_filtrado = df_2024[df_2024[\"aglomerado\"].isin(filtro_codigos)]"
   ]
  },
  {
   "cell_type": "code",
   "execution_count": null,
   "id": "45c305c2-1cce-418a-a203-45d7ecdd70e5",
   "metadata": {},
   "outputs": [],
   "source": []
  }
 ],
 "metadata": {
  "kernelspec": {
   "display_name": "Python [conda env:base] *",
   "language": "python",
   "name": "conda-base-py"
  },
  "language_info": {
   "codemirror_mode": {
    "name": "ipython",
    "version": 3
   },
   "file_extension": ".py",
   "mimetype": "text/x-python",
   "name": "python",
   "nbconvert_exporter": "python",
   "pygments_lexer": "ipython3",
   "version": "3.12.7"
  }
 },
 "nbformat": 4,
 "nbformat_minor": 5
}
