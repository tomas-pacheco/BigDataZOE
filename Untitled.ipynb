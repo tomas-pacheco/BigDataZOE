{
 "cells": [
  {
   "cell_type": "markdown",
   "id": "7e58c61e-9653-46a8-a26e-360e6385309e",
   "metadata": {},
   "source": [
    "# Trabajo Práctico 1\n",
    "\n",
    "## Cavallero, Guarino y Guerrieri "
   ]
  },
  {
   "cell_type": "markdown",
   "id": "4a82967b-9d2a-4c11-863f-a524cbc3457c",
   "metadata": {},
   "source": [
    "1) La tasa de desocupación se mide haciendo el cociente entre la cantidad de personas desocupadas sobre la población economicamente activa. Esto significa que solamente estamos contabiliznado las personas sin ocupación que buscan trabajo activamente y están disponibles para trabajar."
   ]
  },
  {
   "cell_type": "code",
   "execution_count": 106,
   "id": "82d26cfe-a561-48d9-bf98-0f898bda4251",
   "metadata": {},
   "outputs": [
    {
     "name": "stdout",
     "output_type": "stream",
     "text": [
      "Requirement already satisfied: pandas in /opt/anaconda3/lib/python3.12/site-packages (2.2.2)\n",
      "Requirement already satisfied: pyreadstat in /opt/anaconda3/lib/python3.12/site-packages (1.2.8)\n",
      "Requirement already satisfied: openpyxl in /opt/anaconda3/lib/python3.12/site-packages (3.1.5)\n",
      "Requirement already satisfied: numpy>=1.26.0 in /opt/anaconda3/lib/python3.12/site-packages (from pandas) (1.26.4)\n",
      "Requirement already satisfied: python-dateutil>=2.8.2 in /opt/anaconda3/lib/python3.12/site-packages (from pandas) (2.9.0.post0)\n",
      "Requirement already satisfied: pytz>=2020.1 in /opt/anaconda3/lib/python3.12/site-packages (from pandas) (2024.1)\n",
      "Requirement already satisfied: tzdata>=2022.7 in /opt/anaconda3/lib/python3.12/site-packages (from pandas) (2023.3)\n",
      "Requirement already satisfied: et-xmlfile in /opt/anaconda3/lib/python3.12/site-packages (from openpyxl) (1.1.0)\n",
      "Requirement already satisfied: six>=1.5 in /opt/anaconda3/lib/python3.12/site-packages (from python-dateutil>=2.8.2->pandas) (1.16.0)\n",
      "Index(['CODUSU', 'nro_hogar', 'componente', 'h15', 'ano4', 'trimestre',\n",
      "       'region', 'mas_500', 'aglomerado', 'pondera',\n",
      "       ...\n",
      "       'deccfr', 'ideccfr', 'rdeccfr', 'gdeccfr', 'pdeccfr', 'adeccfr',\n",
      "       'pj1_1', 'pj2_1', 'pj3_1', 'idimpp'],\n",
      "      dtype='object', length=176)\n",
      "Index(['CODUSU', 'ANO4', 'TRIMESTRE', 'NRO_HOGAR', 'COMPONENTE', 'H15',\n",
      "       'REGION', 'MAS_500', 'AGLOMERADO', 'PONDERA',\n",
      "       ...\n",
      "       'PDECIFR', 'ADECIFR', 'IPCF', 'DECCFR', 'IDECCFR', 'RDECCFR', 'GDECCFR',\n",
      "       'PDECCFR', 'ADECCFR', 'PONDIH'],\n",
      "      dtype='object', length=177)\n"
     ]
    }
   ],
   "source": [
    "!pip install pandas pyreadstat openpyxl\n",
    "import pandas as pd\n",
    "import pyreadstat  # Para leer archivos .dta\n",
    "# Cargar el .dta de 2004\n",
    "df_2004, meta_2004 = pyreadstat.read_dta(\"/Users/zowi/Desktop/Big Data/GitHub/BigData/t104_dta/usu_individual_t104.dta\")\n",
    "\n",
    "# Cargar el .xls de 2024\n",
    "df_2024 = pd.read_excel(\"/Users/zowi/Desktop/Big Data/GitHub/BigData/EPH_usu_1er_Trim_2024_xlsx/usu_individual_T124.xlsx\")\n",
    "df_2004.head(), df_2024.head()\n",
    "\n",
    "print(df_2004.columns)  # Nombres de columnas en la base 2004\n",
    "print(df_2024.columns)  # Nombres de columnas en la base 2024\n"
   ]
  },
  {
   "cell_type": "code",
   "execution_count": 108,
   "id": "0747b7d1-dabc-4a3e-b893-b38d04090134",
   "metadata": {},
   "outputs": [
    {
     "name": "stdout",
     "output_type": "stream",
     "text": [
      "Columns: Index(['CODUSU', 'nro_hogar', 'componente', 'h15', 'ano4', 'trimestre',\n",
      "       'region', 'mas_500', 'aglomerado', 'pondera',\n",
      "       ...\n",
      "       'deccfr', 'ideccfr', 'rdeccfr', 'gdeccfr', 'pdeccfr', 'adeccfr',\n",
      "       'pj1_1', 'pj2_1', 'pj3_1', 'idimpp'],\n",
      "      dtype='object', length=176)\n",
      "Rows: RangeIndex(start=0, stop=45289, step=1)\n",
      "\n",
      "Types:\n",
      " CODUSU         object\n",
      "nro_hogar     float64\n",
      "componente    float64\n",
      "h15           float64\n",
      "ano4          float64\n",
      "               ...   \n",
      "adeccfr        object\n",
      "pj1_1         float64\n",
      "pj2_1         float64\n",
      "pj3_1         float64\n",
      "idimpp         object\n",
      "Length: 176, dtype: object\n",
      "\n",
      "Shape: (45289, 176)\n",
      "\n",
      "Info:\n",
      " <bound method DataFrame.info of        CODUSU  nro_hogar  componente  h15    ano4  trimestre  region mas_500  \\\n",
      "0      125098        1.0         1.0  1.0  2004.0        1.0     1.0       S   \n",
      "1      125397        1.0         1.0  1.0  2004.0        1.0     1.0       S   \n",
      "2      125515        1.0         1.0  1.0  2004.0        1.0     1.0       S   \n",
      "3      125558        1.0         1.0  1.0  2004.0        1.0     1.0       S   \n",
      "4      125558        1.0         2.0  1.0  2004.0        1.0     1.0       S   \n",
      "...       ...        ...         ...  ...     ...        ...     ...     ...   \n",
      "45284  285733        1.0         1.0  1.0  2004.0        1.0    44.0       N   \n",
      "45285  285733        1.0         2.0  1.0  2004.0        1.0    44.0       N   \n",
      "45286  285733        1.0         3.0  1.0  2004.0        1.0    44.0       N   \n",
      "45287  285733        1.0         4.0  0.0  2004.0        1.0    44.0       N   \n",
      "45288  285733        1.0         5.0  0.0  2004.0        1.0    44.0       N   \n",
      "\n",
      "       aglomerado  pondera  ...  deccfr  ideccfr  rdeccfr  gdeccfr  pdeccfr  \\\n",
      "0            32.0   1299.0  ...      07                06       06            \n",
      "1            32.0   2018.0  ...      00                00       00            \n",
      "2            32.0   1486.0  ...      07                07       07            \n",
      "3            32.0   1674.0  ...      08                08       08            \n",
      "4            32.0   1674.0  ...      08                08       08            \n",
      "...           ...      ...  ...     ...      ...      ...      ...      ...   \n",
      "45284        31.0    123.0  ...      09       09       08                09   \n",
      "45285        31.0    123.0  ...      09       09       08                09   \n",
      "45286        31.0    123.0  ...      09       09       08                09   \n",
      "45287        31.0    123.0  ...      09       09       08                09   \n",
      "45288        31.0    123.0  ...      09       09       08                09   \n",
      "\n",
      "       adeccfr  pj1_1  pj2_1  pj3_1  idimpp  \n",
      "0           04    0.0    0.0    0.0   00000  \n",
      "1           00    0.0    0.0    0.0   00000  \n",
      "2           05    0.0    0.0    0.0   00020  \n",
      "3           06    0.0    0.0    0.0   00000  \n",
      "4           06    0.0    0.0    0.0   00000  \n",
      "...        ...    ...    ...    ...     ...  \n",
      "45284       07    0.0    0.0    0.0   00000  \n",
      "45285       07    0.0    0.0    0.0   00000  \n",
      "45286       07    0.0    0.0    0.0   00000  \n",
      "45287       07    0.0    0.0    0.0   00000  \n",
      "45288       07    0.0    0.0    0.0   00000  \n",
      "\n",
      "[45289 rows x 176 columns]>\n",
      "Columns: Index(['CODUSU', 'nro_hogar', 'componente', 'h15', 'ano4', 'trimestre',\n",
      "       'region', 'mas_500', 'aglomerado', 'pondera',\n",
      "       ...\n",
      "       'deccfr', 'ideccfr', 'rdeccfr', 'gdeccfr', 'pdeccfr', 'adeccfr',\n",
      "       'pj1_1', 'pj2_1', 'pj3_1', 'idimpp'],\n",
      "      dtype='object', length=176)\n",
      "Rows: RangeIndex(start=0, stop=45289, step=1)\n",
      "\n",
      "Types:\n",
      " CODUSU         object\n",
      "ANO4            int64\n",
      "TRIMESTRE       int64\n",
      "NRO_HOGAR       int64\n",
      "COMPONENTE      int64\n",
      "               ...   \n",
      "RDECCFR         int64\n",
      "GDECCFR       float64\n",
      "PDECCFR       float64\n",
      "ADECCFR         int64\n",
      "PONDIH          int64\n",
      "Length: 177, dtype: object\n",
      "\n",
      "Shape: (46050, 177)\n",
      "\n",
      "Info:\n",
      " <bound method DataFrame.info of                               CODUSU  ANO4  TRIMESTRE  NRO_HOGAR  COMPONENTE  \\\n",
      "0      TQRMNOPUTHLMKQCDEGGFB00852588  2024          1          1           3   \n",
      "1      TQRMNOPUTHLMKQCDEGGFB00852588  2024          1          1           4   \n",
      "2      TQRMNOPUTHLMKQCDEGGFB00852588  2024          1          1           5   \n",
      "3      TQRMNOPPWHLLKRCDEGGFB00852574  2024          1          1           1   \n",
      "4      TQRMNOPPWHLLKRCDEGGFB00852574  2024          1          1           2   \n",
      "...                              ...   ...        ...        ...         ...   \n",
      "46045  TQRMNOPUQHKMKNCDEIJAH00861661  2024          1          1           1   \n",
      "46046  TQRMNOPUQHKMKNCDEIJAH00861661  2024          1          1           2   \n",
      "46047  TQRMNOPUQHKMKNCDEIJAH00861661  2024          1          1           3   \n",
      "46048  TQRMNOPUQHKMKNCDEIJAH00861661  2024          1          1           4   \n",
      "46049  TQRMNOPUQHKMKNCDEIJAH00861661  2024          1          1           5   \n",
      "\n",
      "       H15  REGION MAS_500  AGLOMERADO  PONDERA  ...  PDECIFR  ADECIFR  \\\n",
      "0        1      42       S          10      439  ...      NaN       12   \n",
      "1        1      42       S          10      439  ...      NaN       12   \n",
      "2        0      42       S          10      439  ...      NaN       12   \n",
      "3        1      42       S          10      675  ...      NaN        8   \n",
      "4        1      42       S          10      675  ...      NaN        8   \n",
      "...    ...     ...     ...         ...      ...  ...      ...      ...   \n",
      "46045    1       1       S          33     3410  ...      NaN       12   \n",
      "46046    2       1       S          33     3410  ...      NaN       12   \n",
      "46047    2       1       S          33     3410  ...      NaN       12   \n",
      "46048    2       1       S          33     3410  ...      NaN       12   \n",
      "46049    2       1       S          33     3410  ...      NaN       12   \n",
      "\n",
      "           IPCF  DECCFR  IDECCFR  RDECCFR  GDECCFR  PDECCFR  ADECCFR  PONDIH  \n",
      "0           0.0      12     12.0       12     12.0      NaN       12       0  \n",
      "1           0.0      12     12.0       12     12.0      NaN       12       0  \n",
      "2           0.0      12     12.0       12     12.0      NaN       12       0  \n",
      "3      212500.0       6      6.0        6      6.0      NaN        6    1610  \n",
      "4      212500.0       6      6.0        6      6.0      NaN        6    1610  \n",
      "...         ...     ...      ...      ...      ...      ...      ...     ...  \n",
      "46045       0.0      12      NaN       12     12.0      NaN       12       0  \n",
      "46046       0.0      12      NaN       12     12.0      NaN       12       0  \n",
      "46047       0.0      12      NaN       12     12.0      NaN       12       0  \n",
      "46048       0.0      12      NaN       12     12.0      NaN       12       0  \n",
      "46049       0.0      12      NaN       12     12.0      NaN       12       0  \n",
      "\n",
      "[46050 rows x 177 columns]>\n"
     ]
    }
   ],
   "source": [
    "print('Columns:', df_2004.columns)\n",
    "print('Rows:', df_2004.index)\n",
    "print('\\nTypes:\\n', df_2004.dtypes) # muestra el tipo de dato de cada columna\n",
    "print('\\nShape:', df_2004.shape) # muestra cuántas filas y columnas tiene la tabla\n",
    "print('\\nInfo:\\n', df_2004.info)\n",
    "\n",
    "print('Columns:', df_2004.columns)\n",
    "print('Rows:', df_2004.index)\n",
    "print('\\nTypes:\\n', df_2024.dtypes) # muestra el tipo de dato de cada columna\n",
    "print('\\nShape:', df_2024.shape) # muestra cuántas filas y columnas tiene la tabla\n",
    "print('\\nInfo:\\n', df_2024.info)"
   ]
  },
  {
   "cell_type": "code",
   "execution_count": 83,
   "id": "40792fbc-6be5-4339-b42a-46fc377f7b96",
   "metadata": {},
   "outputs": [],
   "source": [
    "provincias_seleccionadas = [\"NOA\"]\n",
    "df_filtrado = df_2004[df_2004[\"region\"].isin(provincias_seleccionadas)]\n",
    "df_2004 = df_2004[df_2004[\"region\"].isin(provincias_seleccionadas)]"
   ]
  },
  {
   "cell_type": "code",
   "execution_count": 85,
   "id": "9af37163-3bbb-4695-8e71-57f342c8e26b",
   "metadata": {},
   "outputs": [
    {
     "name": "stdout",
     "output_type": "stream",
     "text": [
      "(0, 176)\n"
     ]
    }
   ],
   "source": [
    "print(df_2004.shape)  # Muestra la cantidad de filas y columnas"
   ]
  },
  {
   "cell_type": "code",
   "execution_count": null,
   "id": "bdaff7c1-cb68-4391-90f0-d60e7428b46d",
   "metadata": {},
   "outputs": [],
   "source": []
  },
  {
   "cell_type": "code",
   "execution_count": 110,
   "id": "cbbcfc26-824f-4e59-aecf-a637122038f6",
   "metadata": {},
   "outputs": [
    {
     "name": "stdout",
     "output_type": "stream",
     "text": [
      "                           CODUSU  ANO4  TRIMESTRE  NRO_HOGAR  COMPONENTE  \\\n",
      "20  TQRMNOPUYHMOKPCDEGOIH00800329  2024          1          1           1   \n",
      "21  TQRMNOPUYHMOKPCDEGOIH00800329  2024          1          1           2   \n",
      "22  TQRMNOPUYHMOKPCDEGOIH00800329  2024          1          1           3   \n",
      "23  TQRMNOPUYHMOKPCDEGOIH00800329  2024          1          1           4   \n",
      "24  TQRMNOTSQHJKLMCDEGOIH00795856  2024          1          1           1   \n",
      "\n",
      "    H15  REGION MAS_500  AGLOMERADO  PONDERA  ...  PDECIFR  ADECIFR      IPCF  \\\n",
      "20    1      40       N          18      371  ...      8.0       10  187500.0   \n",
      "21    1      40       N          18      371  ...      8.0       10  187500.0   \n",
      "22    1      40       N          18      371  ...      8.0       10  187500.0   \n",
      "23    1      40       N          18      371  ...      8.0       10  187500.0   \n",
      "24    1      40       N          18      716  ...      2.0        2  110000.0   \n",
      "\n",
      "    DECCFR  IDECCFR  RDECCFR  GDECCFR  PDECCFR  ADECCFR  PONDIH  \n",
      "20       5      5.0        7      NaN      6.0        8     367  \n",
      "21       5      5.0        7      NaN      6.0        8     367  \n",
      "22       5      5.0        7      NaN      6.0        8     367  \n",
      "23       5      5.0        7      NaN      6.0        8     367  \n",
      "24       3      3.0        4      NaN      3.0        5     706  \n",
      "\n",
      "[5 rows x 177 columns]\n"
     ]
    }
   ],
   "source": [
    "filtro = [18, 19, 23]\n",
    "df_2024_filtrado = df_2024[df_2024[\"AGLOMERADO\"].isin(filtro)]\n",
    "print(df_2024_filtrado.head())\n",
    "df_2024_filtrado.to_csv(\"filtrado.csv\", index=False)"
   ]
  },
  {
   "cell_type": "code",
   "execution_count": 112,
   "id": "f33b5457-b6c7-44fa-bd35-189980f886fd",
   "metadata": {},
   "outputs": [
    {
     "name": "stdout",
     "output_type": "stream",
     "text": [
      "Empty DataFrame\n",
      "Columns: [CODUSU, nro_hogar, componente, h15, ano4, trimestre, region, mas_500, aglomerado, pondera, ch03, ch04, ch06, ch07, ch08, ch09, ch10, ch11, ch12, ch13, ch14, ch15, ch15_cod, ch16, ch16_cod, nivel_ed, estado, cat_ocup, cat_inac, pp02c1, pp02c2, pp02c3, pp02c4, pp02c5, pp02c6, pp02c7, pp02c8, pp02e, pp02h, pp02i, pp03c, pp03d, pp3e_tot, pp3f_tot, pp03g, pp03h, pp03i, pp03j, intensi, pp04a, pp04b_cod, pp04b1, pp04b2, pp04b3_mes, pp04b3_ano, pp04b3_dia, pp04c, pp04c99, pp04d_cod, pp04g, pp05b2_mes, pp05b2_ano, pp05b2_dia, pp05c_1, pp05c_2, pp05c_3, pp05e, pp05f, pp05h, pp06a, pp06c, pp06d, pp06e, pp06h, pp07a, pp07c, pp07d, pp07e, pp07f1, pp07f2, pp07f3, pp07f4, pp07f5, pp07g1, pp07g2, pp07g3, pp07g4, pp07g_59, pp07h, pp07i, pp07j, pp07k, pp08d1, pp08d4, pp08f1, pp08f2, pp08j1, pp08j2, pp08j3, pp09a, ...]\n",
      "Index: []\n",
      "\n",
      "[0 rows x 176 columns]\n"
     ]
    }
   ],
   "source": [
    "filtro = [\"Jujuy - Palpalá\", \"S.del Estero - La Banda\", \"Salta\"]\n",
    "df_2004_filtrado = df_2004[df_2004[\"aglomerado\"].isin(filtro)]\n",
    "print(df_2004_filtrado.head())\n",
    "df_2004_filtrado.to_stata(\"filtrado.dta\", write_index=False)"
   ]
  },
  {
   "cell_type": "code",
   "execution_count": null,
   "id": "fd9c9d72-2a4c-47ae-9fec-730d568a45c9",
   "metadata": {},
   "outputs": [],
   "source": []
  }
 ],
 "metadata": {
  "kernelspec": {
   "display_name": "Python [conda env:base] *",
   "language": "python",
   "name": "conda-base-py"
  },
  "language_info": {
   "codemirror_mode": {
    "name": "ipython",
    "version": 3
   },
   "file_extension": ".py",
   "mimetype": "text/x-python",
   "name": "python",
   "nbconvert_exporter": "python",
   "pygments_lexer": "ipython3",
   "version": "3.12.7"
  }
 },
 "nbformat": 4,
 "nbformat_minor": 5
}
